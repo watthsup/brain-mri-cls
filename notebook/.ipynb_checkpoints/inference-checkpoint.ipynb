{
 "cells": [
  {
   "cell_type": "code",
   "execution_count": 2,
   "id": "64661ada",
   "metadata": {},
   "outputs": [],
   "source": [
    "import cv2\n",
    "from sklearn.metrics import f1_score\n",
    "from sklearn.metrics import classification_report\n",
    "import albumentations as A\n",
    "from albumentations.pytorch import ToTensorV2\n",
    "import matplotlib.pyplot as plt\n",
    "from sklearn.metrics import confusion_matrix\n",
    "import os\n",
    "from glob import glob\n",
    "\n",
    "from tqdm.notebook import tqdm_notebook as tqdm\n",
    "import numpy as np\n",
    "import pandas as pd\n",
    "\n",
    "from torch.utils.data import DataLoader, sampler, random_split, Dataset\n",
    "import torch\n",
    "import timm\n",
    "import random"
   ]
  },
  {
   "cell_type": "code",
   "execution_count": 16,
   "id": "6fc21bfd",
   "metadata": {},
   "outputs": [],
   "source": [
    "DEVICE = torch.device(\"cpu\")\n",
    "torch.manual_seed(276)\n",
    "SHAPE = (256,256,1)\n",
    "IN_CHANNELS = 1\n",
    "NUM_CLASSES = 4\n",
    "BATCH_SIZE = 16\n",
    "WEIGHT_PATH = '/data/users/6370327221/project/brain-mri-cls/weight/'\n",
    "CLASS_MAP = {'0':'no_tumor', '1':'glioma', '2':'meningioma', '3':'pituatary'}"
   ]
  },
  {
   "cell_type": "code",
   "execution_count": 5,
   "id": "15273def",
   "metadata": {},
   "outputs": [],
   "source": [
    "def getImageFromDataset(testDataset, idx):\n",
    "    sampleImage, sampleLabel, path = testDataset.__getitem__(idx)[0], testDataset.__getitem__(idx)[1].numpy(), str(testDataset.__getitem__(idx)[2])\n",
    "    sampleLabel = int(sampleLabel)\n",
    "    sampleImage = ((sampleImage.permute(1,2,0).numpy()))\n",
    "    sampleClassName = sampleLabel\n",
    "    return sampleImage, sampleClassName, path"
   ]
  },
  {
   "cell_type": "code",
   "execution_count": 6,
   "id": "c2a7c097",
   "metadata": {},
   "outputs": [],
   "source": [
    "def test_model(dataloader, model):\n",
    "    model.eval()\n",
    "    correct_images = 0\n",
    "    total_images = 0\n",
    "    all_labels = []\n",
    "    all_conf = []\n",
    "    all_predicted = []\n",
    "    test_bar = tqdm(enumerate(dataloader), total=len(dataloader))\n",
    "    with torch.no_grad():\n",
    "        for batch_idx, batch_data in test_bar:\n",
    "            images, labels, im_path = batch_data\n",
    "            images, labels, im_path = images.to(DEVICE), labels.to(DEVICE), im_path\n",
    "            outputs = model(images)\n",
    "            scores = torch.nn.functional.softmax(outputs, dim=1)\n",
    "            conf = torch.max(scores,1).values\n",
    "            _, predicted = torch.max(outputs, 1)\n",
    "            correct_images += (predicted == labels).sum().item()\n",
    "            total_images += labels.size(0)\n",
    "            accum_acc = round((correct_images/total_images)*100,4)\n",
    "            test_bar.set_description(\"Testing accuracy: {}\".format(accum_acc))\n",
    "            all_labels.append(labels)\n",
    "            all_predicted.append(predicted)\n",
    "            all_conf.append(conf)\n",
    "    \n",
    "    all_conf = torch.cat(all_conf).cpu().numpy()\n",
    "    all_labels = torch.cat(all_labels).cpu().numpy()\n",
    "    all_predicted = torch.cat(all_predicted).cpu().numpy()\n",
    "    return correct_images, total_images, all_labels, all_predicted, all_conf"
   ]
  },
  {
   "cell_type": "code",
   "execution_count": 7,
   "id": "f43b59db",
   "metadata": {},
   "outputs": [],
   "source": [
    "def plot_confusion_matrix(cm,target_names,title='Confusion matrix',cmap=None,normalize=True):\n",
    "    import matplotlib.pyplot as plt\n",
    "    import numpy as np\n",
    "    import itertools\n",
    "\n",
    "    accuracy = np.trace(cm) / float(np.sum(cm))\n",
    "    misclass = 1 - accuracy\n",
    "\n",
    "    if cmap is None:\n",
    "        cmap = plt.get_cmap('Blues')\n",
    "\n",
    "    plt.figure(figsize=(8, 6))\n",
    "    plt.imshow(cm, interpolation='nearest', cmap=cmap)\n",
    "    plt.title(title)\n",
    "    plt.colorbar()\n",
    "\n",
    "    if target_names is not None:\n",
    "        tick_marks = np.arange(len(target_names))\n",
    "        plt.xticks(tick_marks, target_names, rotation=45)\n",
    "        plt.yticks(tick_marks, target_names)\n",
    "\n",
    "    if normalize:\n",
    "        cm = cm.astype('float') / cm.sum(axis=1)[:, np.newaxis]\n",
    "\n",
    "\n",
    "    thresh = cm.max() / 1.5 if normalize else cm.max() / 2\n",
    "    for i, j in itertools.product(range(cm.shape[0]), range(cm.shape[1])):\n",
    "        if normalize:\n",
    "            plt.text(j, i, \"{:0.4f}\".format(cm[i, j]),\n",
    "                     horizontalalignment=\"center\",\n",
    "                     color=\"white\" if cm[i, j] > thresh else \"black\")\n",
    "        else:\n",
    "            plt.text(j, i, \"{:,}\".format(cm[i, j]),\n",
    "                     horizontalalignment=\"center\",\n",
    "                     color=\"white\" if cm[i, j] > thresh else \"black\")\n",
    "            \n",
    "    plt.tight_layout()\n",
    "    plt.ylabel('True label')\n",
    "    plt.xlabel('Predicted label\\naccuracy={:0.4f}; misclass={:0.4f}'.format(accuracy, misclass))\n",
    "    plt.show()"
   ]
  },
  {
   "cell_type": "code",
   "execution_count": 8,
   "id": "62589033",
   "metadata": {},
   "outputs": [],
   "source": [
    "def showRandomSamples(labels, predicted, conf,dataset, sampleNum=5):\n",
    "    incorrect_im_path = []\n",
    "    \n",
    "    equals = labels == predicted \n",
    "    correctIdx = np.where(equals == 1)[0].tolist()\n",
    "    \n",
    "    incorrectIdx = np.where(equals == 0)[0].tolist()\n",
    "\n",
    "    randomCorrectIdx = random.sample(correctIdx, sampleNum)\n",
    "    randomIncorrectIdx  = random.sample(incorrectIdx, sampleNum)\n",
    "\n",
    "    _, figure = plt.subplots(2,sampleNum,figsize=(30,10))\n",
    "\n",
    "    for imageIdx in range(len(randomCorrectIdx)):\n",
    "        image, className, path = getImageFromDataset(dataset, randomCorrectIdx[imageIdx])\n",
    "        sample_conf = conf[randomCorrectIdx[imageIdx]]\n",
    "        figure[0,imageIdx].imshow(image[:,:,1],cmap='gray')\n",
    "        className = map_label_name(className)\n",
    "        figure[0,imageIdx].title.set_text(f'[CORRECT] {str(className)} confidence : {str(sample_conf)}')\n",
    "  \n",
    "    for imageIdx in range(len(randomIncorrectIdx)):\n",
    "        image, className, path = getImageFromDataset(dataset, randomIncorrectIdx[imageIdx])\n",
    "        incorrect_im_path.append(path)\n",
    "        figure[1,imageIdx].imshow(image[:,:,1],cmap='gray')\n",
    "        predictedClassName = predicted[randomIncorrectIdx[imageIdx]]\n",
    "        predictedClassName = int(predictedClassName)\n",
    "        sample_conf = conf[randomIncorrectIdx[imageIdx]]\n",
    "        className = map_label_name(className)\n",
    "        predictedClassName = map_label_name(predictedClassName)\n",
    "        figure[1,imageIdx].title.set_text(f'Actual: {str(className)} Predicted: {str(predictedClassName)} Conf : {str(sample_conf)}')\n",
    "    plt.show()\n",
    "    return incorrect_im_path"
   ]
  },
  {
   "cell_type": "code",
   "execution_count": 9,
   "id": "75d11f73",
   "metadata": {},
   "outputs": [],
   "source": [
    "def map_label_name(cat):\n",
    "    for k,v in CLASS_MAP.items():\n",
    "            if k == str(cat):\n",
    "                label = v\n",
    "    return label"
   ]
  },
  {
   "cell_type": "code",
   "execution_count": 39,
   "id": "fcbafc87",
   "metadata": {},
   "outputs": [],
   "source": [
    "def create_model(backbone, is_feat_extract=False):\n",
    "    model = timm.create_model(backbone, pretrained=True, \n",
    "                                         in_chans=IN_CHANNELS, num_classes=NUM_CLASSES)\n",
    "    if is_feat_extract:\n",
    "        model = unfreeze_only_fc(model)\n",
    "        \n",
    "    return model"
   ]
  },
  {
   "cell_type": "code",
   "execution_count": 43,
   "id": "5accb7f2",
   "metadata": {},
   "outputs": [],
   "source": [
    "def load_weight(model, backbone, fold):\n",
    "    weight_path = os.path.join(WEIGHT_PATH, f\"{backbone}_fold_{fold}.pth\")\n",
    "    weight = torch.load(weight_path, map_location=DEVICE)\n",
    "    model.load_state_dict(weight)\n",
    "    model.eval()\n",
    "    return model"
   ]
  },
  {
   "cell_type": "code",
   "execution_count": 46,
   "id": "719502a3",
   "metadata": {},
   "outputs": [],
   "source": [
    "class BrainDataset(Dataset):\n",
    "    def __init__(\n",
    "            self,\n",
    "            root_dir = '/data/users/6370327221/dataset/MRI-Brain-tumor-cls/',\n",
    "            is_train = True,\n",
    "            transform = None\n",
    "            ):\n",
    "        if is_train:\n",
    "            self.im_paths = sorted(glob(root_dir + 'Training/**' + '/*.jpg'))\n",
    "        elif not is_train:\n",
    "            self.im_paths = sorted(glob(root_dir + 'Testing/**' + '/*.jpg'))\n",
    "        self.transform = transform\n",
    "\n",
    "    def __len__(self):\n",
    "        return len(self.im_paths)\n",
    "\n",
    "    def __getitem__(self, index):\n",
    "        im_path = self.im_paths[index]\n",
    "        image = cv2.imread(im_path)\n",
    "        image = cv2.cvtColor(image, cv2.COLOR_BGR2GRAY)\n",
    "        image = image / 255.0\n",
    "\n",
    "        label = im_path.split('/')[-2].split('_')[0]\n",
    "        label = torch.tensor(int(label)).long()\n",
    "\n",
    "        if self.transform is not None:\n",
    "            augmentations = self.transform(image=image)\n",
    "            image = augmentations[\"image\"]\n",
    "            image = image.float()\n",
    "\n",
    "        return image, label, im_path"
   ]
  },
  {
   "cell_type": "code",
   "execution_count": 47,
   "id": "be665842",
   "metadata": {},
   "outputs": [],
   "source": [
    "transform = A.Compose(\n",
    "            [\n",
    "                A.Resize(height=256, width=256),\n",
    "                ToTensorV2(),\n",
    "            ]\n",
    "        )"
   ]
  },
  {
   "cell_type": "code",
   "execution_count": 48,
   "id": "086b4268",
   "metadata": {},
   "outputs": [],
   "source": [
    "test_dataset = BrainDataset(is_train=False, transform=transform)"
   ]
  },
  {
   "cell_type": "code",
   "execution_count": 51,
   "id": "eed331ee",
   "metadata": {},
   "outputs": [],
   "source": [
    "model = create_model('resnet18')\n",
    "model = load_weight(model, 'resnet18', 4)"
   ]
  },
  {
   "cell_type": "code",
   "execution_count": null,
   "id": "723d6d67",
   "metadata": {},
   "outputs": [
    {
     "data": {
      "application/json": {
       "ascii": false,
       "bar_format": null,
       "colour": null,
       "elapsed": 0.03104424476623535,
       "initial": 0,
       "n": 0,
       "ncols": null,
       "nrows": 41,
       "postfix": null,
       "prefix": "",
       "rate": null,
       "total": 25,
       "unit": "it",
       "unit_divisor": 1000,
       "unit_scale": false
      },
      "application/vnd.jupyter.widget-view+json": {
       "model_id": "5e612941b4aa492d8bacc4ca33954323",
       "version_major": 2,
       "version_minor": 0
      },
      "text/plain": [
       "  0%|          | 0/25 [00:00<?, ?it/s]"
      ]
     },
     "metadata": {},
     "output_type": "display_data"
    }
   ],
   "source": [
    "test_loader = DataLoader(test_dataset, batch_size=BATCH_SIZE,shuffle=False, num_workers=8)\n",
    "correctImages, totalImages, testLabels, testPredicted, testConf = test_model(test_loader, model)\n",
    "print(classification_report(testLabels, testPredicted))\n",
    "confusionMatrix = confusion_matrix(testLabels, testPredicted)\n",
    "plot_confusion_matrix(cm           = confusionMatrix, \n",
    "                      normalize    = False,\n",
    "                      target_names = ['normal', 'abnormal'],\n",
    "                      title        = \"Classification Confusion Matrix\")\n",
    "\n",
    "true_pos = confusionMatrix[1][1] \n",
    "precision = true_pos / (true_pos + confusionMatrix[0][1])\n",
    "recall = true_pos / (true_pos +  confusionMatrix[1][0])\n",
    "print(f\"Recall : {recall}\")\n",
    "print(f\"Precision : {precision}\")"
   ]
  },
  {
   "cell_type": "code",
   "execution_count": null,
   "id": "9650765b",
   "metadata": {},
   "outputs": [],
   "source": []
  }
 ],
 "metadata": {
  "kernelspec": {
   "display_name": "Python 3 (ipykernel)",
   "language": "python",
   "name": "python3"
  },
  "language_info": {
   "codemirror_mode": {
    "name": "ipython",
    "version": 3
   },
   "file_extension": ".py",
   "mimetype": "text/x-python",
   "name": "python",
   "nbconvert_exporter": "python",
   "pygments_lexer": "ipython3",
   "version": "3.9.12"
  }
 },
 "nbformat": 4,
 "nbformat_minor": 5
}
