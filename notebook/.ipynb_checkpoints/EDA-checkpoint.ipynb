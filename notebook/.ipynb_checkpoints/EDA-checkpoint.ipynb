{
 "cells": [
  {
   "cell_type": "code",
   "execution_count": 1,
   "id": "29ea4189",
   "metadata": {},
   "outputs": [],
   "source": [
    "import nibabel as nib\n",
    "import matplotlib.pyplot as plt\n",
    "import numpy as np\n",
    "from glob import glob\n",
    "import random\n",
    "from ipywidgets import interact, interactive, IntSlider, ToggleButtons, fixed\n",
    "import pandas as pd\n",
    "import seaborn as sns\n",
    "from sklearn.preprocessing import MultiLabelBinarizer"
   ]
  },
  {
   "cell_type": "code",
   "execution_count": 8,
   "id": "34550324",
   "metadata": {},
   "outputs": [],
   "source": [
    "TRAIN_PATH = \"/data/users/6370327221/dataset/CT-Liver-tumor-seg/imagesTr/\"\n",
    "TEST_PATH = \"/data/users/6370327221/dataset/CT-Liver-tumor-seg/imagesTs/\"\n",
    "TRAIN_GT_PATH = \"/data/users/6370327221/dataset/CT-Liver-tumor-seg/labelsTr/\""
   ]
  },
  {
   "cell_type": "code",
   "execution_count": 48,
   "id": "f41306d5",
   "metadata": {},
   "outputs": [],
   "source": [
    "train_imgs = glob(TRAIN_PATH + '*.nii.gz')\n",
    "test_imgs = glob(TEST_PATH + '*.nii.gz')"
   ]
  },
  {
   "cell_type": "code",
   "execution_count": 51,
   "id": "70fea22a",
   "metadata": {},
   "outputs": [],
   "source": [
    "def get_vol_wmask(mode='train'):\n",
    "    vol_path = random.sample(train_imgs, 1)[0]\n",
    "    gt_path = TRAIN_GT_PATH + vol_path.split('/')[-1]\n",
    "    vol = nib.load(vol_path)\n",
    "    vol_np = vol.get_fdata()\n",
    "    mask = nib.load(gt_path)\n",
    "    mask_np = mask.get_fdata()\n",
    "    \n",
    "    return vol_np, mask_np"
   ]
  },
  {
   "cell_type": "code",
   "execution_count": 52,
   "id": "0c843e96",
   "metadata": {},
   "outputs": [],
   "source": [
    "def explore_3d_wmask(vol_np, mask_np, layer):\n",
    "    plt.rcParams.update({'font.size': 8})\n",
    "    fig = plt.figure()\n",
    "    fig.set_figheight(8)\n",
    "    fig.set_figwidth(8)\n",
    "    \n",
    "    ax1 = fig.add_subplot(221)\n",
    "    ax1.imshow(vol_np[:, :, layer], cmap='gray')\n",
    "    ax1.axis('off')\n",
    "    loc_max = vol_np[:, :, layer].max()\n",
    "    loc_min = vol_np[:, :, layer].min()\n",
    "    ax1.title.set_text(f\"CT Images Layer {layer} | max: {loc_max}, min: {loc_min}\")\n",
    "    \n",
    "    ax2 = fig.add_subplot(222)\n",
    "    ax2.imshow(mask_np[:, :, layer], cmap='gray')\n",
    "    ax2.axis('off')\n",
    "    ax2.title.set_text(f\"GT Mask Layer {layer}\")\n",
    "    \n",
    "    ax3 = fig.add_subplot(223)\n",
    "    ax3.hist(vol_np[:,:,layer].flatten(), bins=80, color='c')\n",
    "    ax3.title.set_text(\"Histogram\")\n",
    "    return layer"
   ]
  },
  {
   "cell_type": "code",
   "execution_count": 54,
   "id": "5f4ff583",
   "metadata": {},
   "outputs": [
    {
     "data": {
      "application/vnd.jupyter.widget-view+json": {
       "model_id": "77005ded94e24d7d896463f198f3472a",
       "version_major": 2,
       "version_minor": 0
      },
      "text/plain": [
       "interactive(children=(IntSlider(value=168, description='layer', max=337), Output()), _dom_classes=('widget-int…"
      ]
     },
     "metadata": {},
     "output_type": "display_data"
    }
   ],
   "source": [
    "vol_np, mask_np = get_vol_wmask()\n",
    "interact(explore_3d_wmask, vol_np=fixed(vol_np), mask_np=fixed(mask_np), layer=(0, vol_np.shape[2] - 1));"
   ]
  },
  {
   "cell_type": "code",
   "execution_count": null,
   "id": "409cd562",
   "metadata": {},
   "outputs": [],
   "source": []
  }
 ],
 "metadata": {
  "kernelspec": {
   "display_name": "Python 3 (ipykernel)",
   "language": "python",
   "name": "python3"
  },
  "language_info": {
   "codemirror_mode": {
    "name": "ipython",
    "version": 3
   },
   "file_extension": ".py",
   "mimetype": "text/x-python",
   "name": "python",
   "nbconvert_exporter": "python",
   "pygments_lexer": "ipython3",
   "version": "3.9.12"
  }
 },
 "nbformat": 4,
 "nbformat_minor": 5
}
